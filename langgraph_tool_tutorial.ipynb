{
 "cells": [
  {
   "cell_type": "markdown",
   "id": "00a0a9d3",
   "metadata": {},
   "source": [
    "# Setup\n",
    "\n",
    "First, we load the necessary environment variables. Since we are working with a search engine, we'll utilize the [Tavily](https://www.tavily.com/) search tool. After you created your account and created an API Key, add it on the .env file:\n",
    "    \n",
    "    TAVILY_API_KEY=\"tvly-dev-t....\"\n",
    "\n",
    "And we load everything with the `dotenv` package."
   ]
  },
  {
   "cell_type": "code",
   "execution_count": 1,
   "id": "ad2dc395",
   "metadata": {},
   "outputs": [
    {
     "data": {
      "text/plain": [
       "True"
      ]
     },
     "execution_count": 1,
     "metadata": {},
     "output_type": "execute_result"
    }
   ],
   "source": [
    "from dotenv import load_dotenv\n",
    "load_dotenv()"
   ]
  },
  {
   "cell_type": "markdown",
   "id": "c5ca08db",
   "metadata": {},
   "source": [
    "### Tool\n",
    "\n",
    "Now let's create the tool to search the web. For this we'll first instantiate the Tavily search via the Langchain library, and make a simple test. Once everything is ok, we need to create an array of tools to pass to Langgraph. In our case we have only one tool, se it's an array of one tool, but we could have more tools if needed."
   ]
  },
  {
   "cell_type": "code",
   "execution_count": 10,
   "id": "2dbebaa2",
   "metadata": {},
   "outputs": [],
   "source": [
    "from langchain_tavily import TavilySearch\n",
    "\n",
    "search = TavilySearch(max_results=2)\n",
    "search_results = search.invoke(\"What is the current price of Bitcon in Brazilian Real?\")"
   ]
  },
  {
   "cell_type": "code",
   "execution_count": 11,
   "id": "aea06b4f",
   "metadata": {},
   "outputs": [
    {
     "name": "stdout",
     "output_type": "stream",
     "text": [
      "Query: What is the current price of Bitcon in Brazilian Real?\n",
      "Follow up questions: None\n",
      "Answer: None\n",
      "=== Search Results ===\n",
      "Title: Convert Bitcoin (BTC) to Brazilian Real (BRL) - Binance\n",
      "URL: https://www.binance.com/en/price/bitcoin/BRL\n",
      "Content: The live price of Bitcoin is R$656,125.58 BRL, -0.16% in the last 24h. The current Bitcoin market cap is R$13,054.90B BRL. 24-hour trading volume is R$401.75B\n",
      "Score: 0.8989177\n",
      "Raw: None\n",
      "---\n",
      "Title: BTC to BRL: Bitcoin Price in Brazil Real - CoinGecko\n",
      "URL: https://www.coingecko.com/en/coins/bitcoin/brl\n",
      "Content: Convert Bitcoin to Brazil Real (BTC to BRL)​​ The price of converting 1 Bitcoin (BTC) to BRL is R$644,132 today.\n",
      "Score: 0.87348515\n",
      "Raw: None\n",
      "---\n"
     ]
    }
   ],
   "source": [
    "print(f'Query: {search_results[\"query\"]}')\n",
    "print(f'Follow up questions: {search_results[\"follow_up_questions\"]}')\n",
    "print(f'Answer: {search_results[\"answer\"]}')\n",
    "print('=== Search Results ===')\n",
    "for result in search_results[\"results\"]:\n",
    "    print(f'Title: {result[\"title\"]}')\n",
    "    print(f'URL: {result[\"url\"]}')\n",
    "    print(f'Content: {result[\"content\"]}')\n",
    "    print(f'Score: {result[\"score\"]}')\n",
    "    print(f'Raw: {result[\"raw_content\"]}')\n",
    "    print('---')"
   ]
  },
  {
   "cell_type": "code",
   "execution_count": null,
   "id": "7afaa3a9",
   "metadata": {},
   "outputs": [],
   "source": [
    "# Now let's create a list of tools to use in the graph. In this case we only have one tool, but you can add more if needed.\n",
    "tools = [search]"
   ]
  },
  {
   "cell_type": "markdown",
   "id": "764f8048",
   "metadata": {},
   "source": [
    "### Instantiate the Language Model.\n",
    "\n",
    "We'll need an LLM to utilize the Langgraph, so let's instantiate one now. You can utilize any LLM that Langchain supports, for this specific case, we'll utilize an external LLM Provider, [Groq](https://console.groq.com/), so after you created your account, create an API Key and add it on the .env environment file with the key tag:\n",
    "\n",
    "    GROQ_API_KEY=\"gsk_YtpQRRk0lV7POM1aVMPqWGdyb3FYT...\"\n",
    "\n",
    "Of course you'll need to reload the environment as well, just call the `load_dotenv()` function again."
   ]
  },
  {
   "cell_type": "code",
   "execution_count": 12,
   "id": "4f254c86",
   "metadata": {},
   "outputs": [
    {
     "data": {
      "text/plain": [
       "True"
      ]
     },
     "execution_count": 12,
     "metadata": {},
     "output_type": "execute_result"
    }
   ],
   "source": [
    "load_dotenv()"
   ]
  },
  {
   "cell_type": "code",
   "execution_count": 13,
   "id": "3f03c9c6",
   "metadata": {},
   "outputs": [],
   "source": [
    "from langchain_groq import ChatGroq\n",
    "\n",
    "model = ChatGroq(model=\"meta-llama/llama-4-scout-17b-16e-instruct\")"
   ]
  },
  {
   "cell_type": "code",
   "execution_count": 14,
   "id": "54e9daff",
   "metadata": {},
   "outputs": [
    {
     "data": {
      "text/plain": [
       "\"Hello! It's nice to meet you. Is there something I can help you with or would you like to chat?\""
      ]
     },
     "execution_count": 14,
     "metadata": {},
     "output_type": "execute_result"
    }
   ],
   "source": [
    "# Just a little test to see if the model is working\n",
    "query = \"Hello\"\n",
    "response = model.invoke([{'role': 'user', 'content': query}])\n",
    "response.text()"
   ]
  },
  {
   "cell_type": "code",
   "execution_count": 15,
   "id": "09b651c8",
   "metadata": {},
   "outputs": [],
   "source": [
    "# Now let's bind the tools to the model, once we create this, the model will be able to call the tools when needed, and work with the result.\n",
    "model_with_tools = model.bind_tools(tools)"
   ]
  },
  {
   "cell_type": "code",
   "execution_count": 16,
   "id": "ed974a94",
   "metadata": {},
   "outputs": [
    {
     "name": "stdout",
     "output_type": "stream",
     "text": [
      "Message content: Hello! How can I assist you today?\n",
      "Tool calls: []\n"
     ]
    }
   ],
   "source": [
    "# Let's test that it actually works, first we'll test with the same query, so that we can see if the toll is actually added, but not being called.\n",
    "response = model_with_tools.invoke([{'role': 'user', 'content': query}])\n",
    "print(f'Message content: {response.text()}')\n",
    "print(f'Tool calls: {response.tool_calls}')"
   ]
  },
  {
   "cell_type": "code",
   "execution_count": 18,
   "id": "cd2165bf",
   "metadata": {},
   "outputs": [
    {
     "name": "stdout",
     "output_type": "stream",
     "text": [
      "Message content: \n",
      "Tool calls: [{'name': 'tavily_search', 'args': {'query': 'Bitcoin current price in Brazilian Real'}, 'id': 'j23asn5gt', 'type': 'tool_call'}]\n"
     ]
    }
   ],
   "source": [
    "# Now let's try with a question that should utilize the tool.\n",
    "query = \"Search for the current price of Bitcoin in Brazilian Real?\"\n",
    "response = model_with_tools.invoke([{'role': 'user', 'content': query}])\n",
    "print(f'Message content: {response.text()}')\n",
    "print(f'Tool calls: {response.tool_calls}')"
   ]
  },
  {
   "cell_type": "markdown",
   "id": "d324b573",
   "metadata": {},
   "source": [
    "## Create the Agent\n",
    "\n",
    "Now that we can see that the Tavily tool, the Model, and the Model with tool is working, let's create the agent that'll utilize the tool, and return the needed information.\n",
    "For this, we'll utilize the prebuild function `create_react_agent`, this function will call the `.bind_tools` under the hood, so we don't need to worry about the actuall tool call.\n",
    "We could of course, utilize the already created `model_with_tools` in a specific node to call the tool, but this way is cleaner."
   ]
  },
  {
   "cell_type": "code",
   "execution_count": 21,
   "id": "991e8248",
   "metadata": {},
   "outputs": [],
   "source": [
    "from langgraph.prebuilt import create_react_agent\n",
    "\n",
    "agent_executor = create_react_agent(model, tools)"
   ]
  },
  {
   "cell_type": "code",
   "execution_count": 25,
   "id": "7ac38f3e",
   "metadata": {},
   "outputs": [
    {
     "name": "stdout",
     "output_type": "stream",
     "text": [
      "================================\u001b[1m Human Message \u001b[0m=================================\n",
      "\n",
      "Search for the current price of Bitcoin in Brazilian Real?\n",
      "==================================\u001b[1m Ai Message \u001b[0m==================================\n",
      "Tool Calls:\n",
      "  tavily_search (2vrfdky4r)\n",
      " Call ID: 2vrfdky4r\n",
      "  Args:\n",
      "    query: Bitcoin current price in Brazilian Real\n",
      "=================================\u001b[1m Tool Message \u001b[0m=================================\n",
      "Name: tavily_search\n",
      "\n",
      "{\"query\": \"Bitcoin current price in Brazilian Real\", \"follow_up_questions\": null, \"answer\": null, \"images\": [], \"results\": [{\"url\": \"https://coinmarketcap.com/currencies/bitcoin/btc/brl/\", \"title\": \"BTC to BRL: Live Bitcoin to Brazilian Real Rate - CoinMarketCap\", \"content\": \"The BTC to BRL conversion rate today is R$639,478.15. This is an increase of 0.02% in the last hour and a decrease of 2.42% in the last 24 hours. The recent\", \"score\": 0.93525803, \"raw_content\": null}, {\"url\": \"https://www.coinbase.com/converter/btc/brl\", \"title\": \"Convert Bitcoin (BTC) to Brazilian Real (BRL) - Coinbase\", \"content\": \"The current value of 1 BTC is R$639,801.34 BRL. In other words, to buy 5 Bitcoin, it would cost you R$3,199,006.68 BRL. Inversely, R$1.00 BRL would allow you to\", \"score\": 0.9323611, \"raw_content\": null}], \"response_time\": 2.62}\n",
      "==================================\u001b[1m Ai Message \u001b[0m==================================\n",
      "\n",
      "The current price of Bitcoin in Brazilian Real is around R$639,478.15 to R$639,801.34. You can check the live conversion rates on websites like CoinMarketCap or Coinbase.\n"
     ]
    }
   ],
   "source": [
    "# Now let's execute the same query, but this time using the agent executor.\n",
    "response = agent_executor.invoke({'messages': [{'role': 'user', 'content': query}]})\n",
    "for message in response['messages']:\n",
    "    message.pretty_print()"
   ]
  },
  {
   "cell_type": "code",
   "execution_count": null,
   "id": "e5af6965",
   "metadata": {},
   "outputs": [],
   "source": []
  }
 ],
 "metadata": {
  "kernelspec": {
   "display_name": ".venv",
   "language": "python",
   "name": "python3"
  },
  "language_info": {
   "codemirror_mode": {
    "name": "ipython",
    "version": 3
   },
   "file_extension": ".py",
   "mimetype": "text/x-python",
   "name": "python",
   "nbconvert_exporter": "python",
   "pygments_lexer": "ipython3",
   "version": "3.13.0"
  }
 },
 "nbformat": 4,
 "nbformat_minor": 5
}
