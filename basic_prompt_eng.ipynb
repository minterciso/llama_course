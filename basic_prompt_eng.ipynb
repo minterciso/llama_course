{
 "cells": [
  {
   "cell_type": "code",
   "execution_count": 1,
   "id": "41f9e2a8",
   "metadata": {},
   "outputs": [
    {
     "data": {
      "text/plain": [
       "True"
      ]
     },
     "execution_count": 1,
     "metadata": {},
     "output_type": "execute_result"
    }
   ],
   "source": [
    "from dotenv import load_dotenv # Load langsmith environment variables\n",
    "load_dotenv()"
   ]
  },
  {
   "cell_type": "code",
   "execution_count": 2,
   "id": "246688de",
   "metadata": {},
   "outputs": [],
   "source": [
    "# Import needed libraries and usefull methods\n",
    "from langchain_ollama import ChatOllama\n",
    "\n",
    "LLM_MODEL = \"llama3.2:3b\""
   ]
  },
  {
   "cell_type": "markdown",
   "id": "03674cd9",
   "metadata": {},
   "source": [
    "# Prompt Engineering 101\n",
    "\n",
    "Now that we have a way of utilizing memory, we can start testing with some prompt engineering techniques. There are tons of different techniques, but we'll try to focus on 3 main techniques in order to try and achieve best results, namelly:\n",
    "1. Zero Shot: Basically what we did on the beginning, were we just ask the LLM without providing any type of context.\n",
    "2. Functioning Shot: Like the Zero Shot, but we provide some context to the LLM as to what it should respond as (ie: a developer, consultant, doctor, etc). We already made this before when utilizing the system message.\n",
    "3. Few Shots: We provide the LLM with some extra steps (human interaction) until we finally achieve the final answer we actually need. This is one of the most common techniques when dealing with generic chatbots, and humans are used to utilize this withouth even knowing it.\n",
    "4. Chain of tought: We provide the LLM with small and discrete tasks, until we achieve the final interation.\n",
    "\n",
    "There are many more techniques, and you can also utilize a combination of those techniques. Feel free to experiment as you see fit.\n",
    "\n",
    "Now let's play a little with each technique.\n",
    "\n",
    "## Zero shot\n",
    "To utilize a Zero shot technique, we could just ask the model and get the response."
   ]
  },
  {
   "cell_type": "code",
   "execution_count": 3,
   "id": "f7235ff2",
   "metadata": {},
   "outputs": [
    {
     "name": "stdout",
     "output_type": "stream",
     "text": [
      "The ranking of the top programming languages can vary depending on factors such as industry, job requirements, and personal preferences. However, based on various sources, including the TIOBE Index, GitHub, and Stack Overflow, here are five of the most popular programming languages:\n",
      "\n",
      "1. **JavaScript**: JavaScript is a versatile language that is widely used for web development, mobile app development, and server-side programming. Its popularity has been increasing in recent years due to its widespread adoption in modern web applications.\n",
      "2. **Python**: Python is a high-level language known for its simplicity, readability, and versatility. It's widely used in data science, machine learning, artificial intelligence, and web development. Its popularity has been growing rapidly in recent years due to its ease of use and extensive libraries.\n",
      "3. **Java**: Java is an object-oriented language that's widely used for Android app development, web development, and enterprise software development. Its platform independence and large community make it a popular choice for many developers.\n",
      "4. **C++**: C++ is a high-performance language that's commonly used for building operating systems, games, and other high-performance applications. Its speed and flexibility make it a favorite among system programmers and game developers.\n",
      "5. **C#**: C# (pronounced \"C sharp\") is an object-oriented language developed by Microsoft. It's widely used for Windows and web application development, as well as for building enterprise software. Its popularity has been growing due to its ease of use and integration with the .NET framework.\n",
      "\n",
      "Note that this is not an exhaustive list, and other languages like Ruby, Swift, PHP, and Go are also popular among developers. The ranking can vary depending on the specific context and industry.\n",
      "\n",
      "Here's a rough estimate of the popularity of programming languages based on various sources:\n",
      "\n",
      "* TIOBE Index (2022): JavaScript (14.3%), Python (12.9%), Java (10.4%), C++ (8.5%), C# (6.1%)\n",
      "* GitHub (2022): JavaScript (24.7%), Python (20.4%), Java (15.6%), C++ (11.4%), C# (8.5%)\n",
      "* Stack Overflow (2022): JavaScript (71.3%), Python (63.9%), Java (55.6%), C++ (46.1%), C# (42.2%)\n",
      "\n",
      "Keep in mind that these numbers are subject to change and may vary depending on the source and methodology used.\n"
     ]
    }
   ],
   "source": [
    "llm_model = ChatOllama(model=LLM_MODEL, temperature=0.3)\n",
    "response = llm_model.invoke(\"What are the top 5 programming languages?\")\n",
    "print(response.content)"
   ]
  },
  {
   "cell_type": "markdown",
   "id": "6c0d5fa4",
   "metadata": {},
   "source": [
    "# Functioning shot\n",
    "\n",
    "To work with the functioning shot, we can either provide the LLM function inside the prompt, or with a system message. We usually make it with system message when we don't have control of the input of the user, this was the previous examples. Since we already worked with the system message, let's try working directly on the prompt."
   ]
  },
  {
   "cell_type": "code",
   "execution_count": 4,
   "id": "1ee41dba",
   "metadata": {},
   "outputs": [
    {
     "name": "stdout",
     "output_type": "stream",
     "text": [
      "As a seasoned developer, I've had the pleasure of working with numerous programming languages over the years. While it's difficult to pinpoint a single \"top\" language, I can give you an overview of the most popular and in-demand programming languages based on various sources such as GitHub, Stack Overflow, and industry trends.\n",
      "\n",
      "Here are my top 5 picks:\n",
      "\n",
      "1. **JavaScript**: JavaScript is the king of client-side scripting and has become the de facto language for web development. Its versatility, dynamic nature, and widespread adoption make it an essential skill for any developer. With frameworks like React, Angular, and Vue.js, JavaScript is used in a wide range of applications, from mobile apps to desktop software.\n",
      "2. **Python**: Python is a versatile language that has gained immense popularity in recent years due to its simplicity, readability, and extensive libraries. It's widely used in data science, machine learning, web development (with frameworks like Django and Flask), and automation. Its ease of use and large community make it an excellent choice for beginners and experienced developers alike.\n",
      "3. **Java**: Java is a popular language that has been around for decades. Its platform independence, strong security features, and vast ecosystem make it a favorite among enterprise developers. It's widely used in Android app development, web development (with frameworks like Spring and Hibernate), and desktop applications.\n",
      "4. **C++**: C++ is a high-performance language that's still widely used in systems programming, game development, and high-performance computing. Its low-level memory management capabilities make it an excellent choice for building efficient, scalable, and reliable software systems.\n",
      "5. **TypeScript**: TypeScript is a superset of JavaScript that adds optional static typing and other features to improve code maintainability and scalability. It's gaining popularity in the web development community, especially with frameworks like Angular and React. Its compatibility with JavaScript and large community make it an attractive choice for developers looking to build scalable and maintainable applications.\n",
      "\n",
      "Honorable mentions:\n",
      "\n",
      "* **Go**: A modern language developed by Google that's gaining traction in cloud computing, networking, and distributed systems.\n",
      "* **Rust**: A systems programming language that prioritizes safety and performance, with a growing ecosystem of libraries and frameworks.\n",
      "* **Kotlin**: A modern language for Android app development that offers null safety features and interoperability with Java.\n",
      "\n",
      "Remember, the best language to learn is the one that aligns with your goals, interests, and career aspirations. As a seasoned developer, I'm always excited to explore new languages and technologies to stay up-to-date with the latest trends and innovations!\n"
     ]
    }
   ],
   "source": [
    "llm_model = ChatOllama(model=LLM_MODEL, temperature=0.3)\n",
    "response = llm_model.invoke(\"You are a seasoned developer that likes to experiment with new languages. What are the top 5 programming languages?\")\n",
    "print(response.content)"
   ]
  },
  {
   "cell_type": "markdown",
   "id": "f63e2b9e",
   "metadata": {},
   "source": [
    "## Few shot and Chain of tought\n",
    "\n",
    "We can only work with the Few Shots (and chain of tought) if we have some kind of memory, since we relly on the memory to provide the context to the LLM. Let's try utilizing a simple Langgraph graph, and work with an LLM while providing context for it to answer the final question.\n",
    "\n",
    "The biggest difference from the Few Shots and Chain of Tought is the actuall content we are providing. We'll try to work with both at the same time in this example, by utilizing the Chain of Tought, as a Few Shots prompting engineering."
   ]
  },
  {
   "cell_type": "code",
   "execution_count": 5,
   "id": "d9ff27b5",
   "metadata": {},
   "outputs": [],
   "source": [
    "from langgraph.checkpoint.memory import MemorySaver\n",
    "from langgraph.graph import START, END, MessagesState, StateGraph\n",
    "\n",
    "def create_graph():\n",
    "    \"\"\"Create a state graph for the chat with persistence.\"\"\"    \n",
    "\n",
    "    # Create our custom node.\n",
    "    def chat_agent(state: MessagesState):\n",
    "        messages = state['messages']\n",
    "        prompt = messages\n",
    "        chat_with_persistence = ChatOllama(model=LLM_MODEL, temperature=0.7)\n",
    "        response = chat_with_persistence.invoke(prompt)\n",
    "        return {'messages':[response]}\n",
    "\n",
    "    # Create the memory checkpointer\n",
    "    memory = MemorySaver()\n",
    "\n",
    "    # Build the state graph\n",
    "    graph_builder = StateGraph(MessagesState)\n",
    "    graph_builder.add_node('chat_agent', chat_agent)\n",
    "    graph_builder.add_edge(START, 'chat_agent')\n",
    "    graph_builder.add_edge('chat_agent', END)\n",
    "\n",
    "    graph = graph_builder.compile(checkpointer=memory)\n",
    "\n",
    "    return graph"
   ]
  },
  {
   "cell_type": "code",
   "execution_count": 6,
   "id": "6645a920",
   "metadata": {},
   "outputs": [],
   "source": [
    "thread_id = \"cot_math_representation\"\n",
    "config = {'configurable': {'thread_id': thread_id}}\n",
    "graph = create_graph()"
   ]
  },
  {
   "cell_type": "code",
   "execution_count": 7,
   "id": "39bbcf4f",
   "metadata": {},
   "outputs": [
    {
     "name": "stdout",
     "output_type": "stream",
     "text": [
      "We had:\n",
      "Δ = 4\n",
      "\n",
      "Now, let's subtract C (which is 3) from Δ:\n",
      "\n",
      "Δ - 3 = 4 - 3\n",
      "= 1\n",
      "\n",
      "So, after removing C from Delta, we're left with A.\n"
     ]
    }
   ],
   "source": [
    "# Some context\n",
    "user_input = \"You are an authomatic math assistant, you will be given some information about math operations, and then you will be asked to solve a math operation. Provide the answer with a brief explanation.\"\n",
    "# Add some information\n",
    "user_input = \"We are utilizing the following letters to represent numbers: A, B, C, D, E, F, G, H, I, J, K, L, M, N, O, P, Q, R, S, T, U, V, W, X, Y and Z. The numbers they represent are 1, 2, 3, etc.\"\n",
    "graph.invoke({'messages': [{'role': 'user', 'content': user_input}]}, config=config)\n",
    "user_input = \"In that case, what happens when we add A and C?\" # 4\n",
    "graph.invoke({'messages': [{'role': 'user', 'content': user_input}]}, config=config)\n",
    "user_input = \"Then add A and C, and store it in a variable called Delta.\" # Delta = 4, or D\n",
    "graph.invoke({'messages': [{'role': 'user', 'content': user_input}]}, config=config)\n",
    "# Make a question\n",
    "user_input = \"Now remove C from Delta, what is the result in our representation?\" # 1, or A\n",
    "response = graph.invoke({'messages': [{'role': 'user', 'content': user_input}]}, config=config)\n",
    "print(response['messages'][-1].content) "
   ]
  }
 ],
 "metadata": {
  "kernelspec": {
   "display_name": ".venv",
   "language": "python",
   "name": "python3"
  },
  "language_info": {
   "codemirror_mode": {
    "name": "ipython",
    "version": 3
   },
   "file_extension": ".py",
   "mimetype": "text/x-python",
   "name": "python",
   "nbconvert_exporter": "python",
   "pygments_lexer": "ipython3",
   "version": "3.13.0"
  }
 },
 "nbformat": 4,
 "nbformat_minor": 5
}
