{
 "cells": [
  {
   "cell_type": "markdown",
   "id": "5b37f3be",
   "metadata": {},
   "source": [
    "# LangGraph tutorial\n",
    "\n",
    "One very usefull way of developing Agentic AI is with the usage of graph of agents. A Graph of agents is a \"step by step\" instructions on how an Agentic AI will work, in order to achieve the final solution. It can go from simply a step by step procedure, or as complex as handling a network of agents, and how they interact with each [other](https://langchain-ai.github.io/langgraph/concepts/multi_agent/).\n",
    "\n",
    "In here we'll work with a simple step by step agent. We'll start creating a custom [State](https://langchain-ai.github.io/langgraph/concepts/low_level/#state) in order for us to be able to store a user input query, simulate a talk between two people, and finally sumarize the talk between them.\n",
    "\n",
    "We'll also create a more simple agent, capable of searching the web via the [Tavily API](https://www.tavily.com/), and summarize in a Markdown format the results found, based on the user query.\n",
    "\n",
    "In the end, we'll add some sort of short term memory on the last agent, in order to exemplify the usage of the [Checkpointer](https://langchain-ai.github.io/langgraph/concepts/memory/#short-term-memory)."
   ]
  },
  {
   "cell_type": "markdown",
   "id": "e5cace7b",
   "metadata": {},
   "source": [
    "## State\n",
    "\n",
    "Langgraph utilizes states as the way to pass message between nodes. There's also a handy message state called `MessagesState`, that is basically a `TypedDict` with a reducer function responsible for keep adding messages in the `message` field. Let's create a similar state, but we'll add a `user_input` field, as well as a `summary` field. The main idea here (and this is totally random) is that we'll store the user query in the `user_input` field, we'll add the messages between the nodes in the `messages` list, and we'll output on the last node a summary of everything that the graph worked, on the the `summary` field."
   ]
  },
  {
   "cell_type": "code",
   "execution_count": 1,
   "id": "1c1cc64f",
   "metadata": {},
   "outputs": [],
   "source": [
    "from langchain_core.messages import AnyMessage\n",
    "from langgraph.graph.message import add_messages\n",
    "from typing import Annotated\n",
    "from typing_extensions import TypedDict\n",
    "\n",
    "class GraphState(TypedDict):\n",
    "    messages: Annotated[list[AnyMessage], add_messages]\n",
    "    user_input: str\n",
    "    summary: str"
   ]
  },
  {
   "cell_type": "markdown",
   "id": "a520f942",
   "metadata": {},
   "source": [
    "## Nodes\n",
    "\n",
    "Each node is responsible for one specific action in a LangGraph graph. So we'll create some nodes to exemplify this:\n",
    "\n",
    "1. Decide the amount of messages the `user_input` can have to tell a story about two people talking about the `user_input` query.\n",
    "2. Create the talks between the two people, and add it in the `messages` field.\n",
    "3. Summarize the conversation found in the `messages` field.\n",
    "\n",
    "Of course this is only for showing how one can utilize the nodes to create a simple graph. Lather on we'll create a more usefull agent."
   ]
  },
  {
   "cell_type": "code",
   "execution_count": 2,
   "id": "67038ef8",
   "metadata": {},
   "outputs": [
    {
     "data": {
      "text/plain": [
       "True"
      ]
     },
     "execution_count": 2,
     "metadata": {},
     "output_type": "execute_result"
    }
   ],
   "source": [
    "# Let's load the environment variables\n",
    "from dotenv import load_dotenv\n",
    "\n",
    "load_dotenv()"
   ]
  },
  {
   "cell_type": "code",
   "execution_count": 3,
   "id": "e57b8387",
   "metadata": {},
   "outputs": [],
   "source": [
    "# Let's start with the LLM and the Langgraph builder, StateGraph\n",
    "from langchain_groq import ChatGroq\n",
    "from langgraph.graph import StateGraph\n",
    "\n",
    "# Instantiate the LLM\n",
    "llm = ChatGroq(model=\"meta-llama/llama-4-scout-17b-16e-instruct\")\n",
    "\n",
    "# Create the graph builder\n",
    "graph_builder = StateGraph(GraphState)"
   ]
  },
  {
   "cell_type": "code",
   "execution_count": 4,
   "id": "be7d9a11",
   "metadata": {},
   "outputs": [
    {
     "data": {
      "text/plain": [
       "<langgraph.graph.state.StateGraph at 0x1079d4980>"
      ]
     },
     "execution_count": 4,
     "metadata": {},
     "output_type": "execute_result"
    }
   ],
   "source": [
    "# Create the first node to decide the amount of messages\n",
    "def decide_amount_of_messages(state: GraphState):\n",
    "    # Clean the state variables that we'll need to use, so that we always start with a clean slate\n",
    "    state['messages'] = []\n",
    "    state['summary'] = \"\"\n",
    "\n",
    "    # Get the user input\n",
    "    user_input = state.get('user_input', '')\n",
    "    if not user_input:\n",
    "        raise ValueError(\"User input is required to decide the amount of messages.\")\n",
    "\n",
    "    # Create a system prompt to decide the amount of messages\n",
    "    system_prompt = \"\"\"\n",
    "    You are a novel writer tasked with creating a very short store about two people talking about a given topic.\n",
    "    In this part of the process, you'll need to decide how many messages the conversation will have, and only this.\n",
    "    The amount of messages should be between 2 and 50, the messages should be short and capable ot telling a story about the two people talking about the given topic.\n",
    "    Do not write the messages, just return the amount of messages that the conversation will have and instructions to the next node to create the messages.\n",
    "    \"\"\"\n",
    "    human_prompt = f\"\"\"\n",
    "    User input to be handled as a topic: {user_input}\n",
    "    \"\"\"\n",
    "    prompt = [system_prompt, human_prompt]\n",
    "    response = llm.invoke(prompt)\n",
    "    \n",
    "    # Returning only the messages, will let the LangGraph to utilize the redurecer on the 'messages' field, and it'll add the message to the state. \n",
    "    # Since this is the first node, this'll be the firt message on the list.\n",
    "    return {'messages': response.content} \n",
    "\n",
    "# Add the node to the graph builder\n",
    "graph_builder.add_node(\"decide_amount_of_messages\", decide_amount_of_messages)"
   ]
  },
  {
   "cell_type": "code",
   "execution_count": 5,
   "id": "69b239e3",
   "metadata": {},
   "outputs": [
    {
     "data": {
      "text/plain": [
       "<langgraph.graph.state.StateGraph at 0x1079d4980>"
      ]
     },
     "execution_count": 5,
     "metadata": {},
     "output_type": "execute_result"
    }
   ],
   "source": [
    "# Create the second node, to create the actuall message conversation.\n",
    "from langchain_core.messages import AIMessage\n",
    "def create_messages(state: GraphState):\n",
    "    # Get the instruction from the state. It should be the first message in the list.\n",
    "    instruction_message = state['messages'][0]\n",
    "    user_input = state.get('user_input', '')\n",
    "    if not instruction_message:\n",
    "        raise ValueError(\"No instruction message found in the state.\")\n",
    "    \n",
    "    # Create the system prompt to create the messages\n",
    "    system_prompt = \"\"\"\n",
    "    You are a novel writer tasked with creating a very short store about two people talking about a given topic.\n",
    "    In this part of the process, you'll need to create the messages that will be used in the conversation.\n",
    "    You already have the instructions on how to create the messages, as well as the topic to be used.\n",
    "    The output should be a JSON list of messages, where each message is a dictionary with the following fields:\n",
    "    - talker: The name of the person talking, it can be any name you want, as long as it is consistent throughout the conversation.\n",
    "    - content: The content of the message, it should be short and capable of telling a\n",
    "    \"\"\"\n",
    "    human_prompt = f\"\"\"\n",
    "    User input to be handled as a topic: {user_input}\n",
    "    Instructions to create the messages: {instruction_message}\n",
    "    \"\"\"\n",
    "    prompt = [system_prompt, human_prompt]\n",
    "    # Just for kicks, let's create a dictionary output and parse this into a message list, that'll add on the state\n",
    "    class TalkingMessage(TypedDict):\n",
    "        talker: str\n",
    "        content: str\n",
    "    class Conversation(TypedDict):\n",
    "        messages: list[TalkingMessage]\n",
    "    \n",
    "    talk_messages = []\n",
    "    response = llm.with_structured_output(Conversation).invoke(prompt)\n",
    "\n",
    "    for message in response['messages']:\n",
    "        talk_messages.append(AIMessage(content=message['content'], additional_kwargs={'talker': message['talker']}))\n",
    "\n",
    "    return {'messages': talk_messages}\n",
    "\n",
    "# Add the node to the graph builder\n",
    "graph_builder.add_node(\"create_messages\", create_messages)"
   ]
  },
  {
   "cell_type": "code",
   "execution_count": 6,
   "id": "e00a88bd",
   "metadata": {},
   "outputs": [
    {
     "data": {
      "text/plain": [
       "<langgraph.graph.state.StateGraph at 0x1079d4980>"
      ]
     },
     "execution_count": 6,
     "metadata": {},
     "output_type": "execute_result"
    }
   ],
   "source": [
    "# Now let's add the last node, to summarize the conversation\n",
    "def summarize_conversation(state: GraphState):\n",
    "    # Get the messages from the state\n",
    "    messages = state['messages']\n",
    "    if not messages:\n",
    "        raise ValueError(\"No messages found in the state.\")\n",
    "    \n",
    "    # Create the system prompt to summarize the conversation\n",
    "    system_prompt = \"\"\"\n",
    "    You are a novel writer tasked with summarizing a conversation between two people.\n",
    "    In this part of the process, you'll need to summarize the conversation found in the messages.\n",
    "    The output should be a short summary of the conversation, that can be used to understand what was talked about.\n",
    "    Also, make the output as a Markdown text, and include the messages in it.\n",
    "    \"\"\"\n",
    "    human_prompt = f\"\"\"\n",
    "    Messages to be summarized: {messages}\n",
    "    \"\"\"\n",
    "    prompt = [system_prompt, human_prompt]\n",
    "    \n",
    "    response = llm.invoke(prompt)\n",
    "    \n",
    "    # Add the summary to the state\n",
    "    return {'summary': response.content}\n",
    "# Add the node to the graph builder\n",
    "graph_builder.add_node(\"summarize_conversation\", summarize_conversation)"
   ]
  },
  {
   "cell_type": "code",
   "execution_count": 7,
   "id": "7d6a7f88",
   "metadata": {},
   "outputs": [],
   "source": [
    "# Add the edges between the nodes\n",
    "from langgraph.graph import START, END\n",
    "\n",
    "graph_builder.add_edge(START, \"decide_amount_of_messages\")\n",
    "graph_builder.add_edge(\"decide_amount_of_messages\", \"create_messages\")\n",
    "graph_builder.add_edge(\"create_messages\", \"summarize_conversation\")\n",
    "graph_builder.add_edge(\"create_messages\", END)\n",
    "\n",
    "# Compile the graph\n",
    "graph = graph_builder.compile()"
   ]
  },
  {
   "cell_type": "code",
   "execution_count": 8,
   "id": "f3d86ac9",
   "metadata": {},
   "outputs": [],
   "source": [
    "# Test user input\n",
    "test_state = GraphState(\n",
    "    user_input=\"What is the meaning of life, and why it's 42?\",\n",
    "    messages=[],\n",
    "    summary=\"\"\n",
    ")\n",
    "# Run the graph with the test state\n",
    "result = graph.invoke(test_state)"
   ]
  },
  {
   "cell_type": "code",
   "execution_count": 9,
   "id": "098de563",
   "metadata": {},
   "outputs": [
    {
     "name": "stdout",
     "output_type": "stream",
     "text": [
      "---\n",
      "Content: The conversation will have 7 messages.\n",
      "\n",
      "Instructions to the next node: \n",
      "Create 7 short messages that tell a story about two people discussing the meaning of life and why it's 42. Consider including elements of humor, curiosity, and insight. Ensure that the conversation flows logically and that the topic is explored in a creative way.\n",
      "Talker: Unknown\n",
      "---\n",
      "Content: I've always wondered, what's the meaning of life?\n",
      "Talker: Alex\n",
      "---\n",
      "Content: You know, I think it's 42.\n",
      "Talker: Ben\n",
      "---\n",
      "Content: 42? That's random. Why 42?\n",
      "Talker: Alex\n",
      "---\n",
      "Content: Well, didn't Douglas Adams say that's the answer to the ultimate question of life, the universe, and everything?\n",
      "Talker: Ben\n",
      "---\n",
      "Content: From 'The Hitchhiker's Guide to the Galaxy'? I read that, but I never thought much of it.\n",
      "Talker: Alex\n",
      "---\n",
      "Content: Exactly! It's humorous, but also profound. Maybe the meaning of life is simply to find joy in the journey, not the destination.\n",
      "Talker: Ben\n",
      "---\n",
      "Content: Hmm, I think you might be onto something there. So, 42 is like a reminder to enjoy the ride?\n",
      "Talker: Alex\n"
     ]
    }
   ],
   "source": [
    "for message in result['messages']:\n",
    "    print('---')\n",
    "    print(f'Content: {message.content}')\n",
    "    print(f'Talker: {message.additional_kwargs.get(\"talker\", \"Unknown\")}')"
   ]
  },
  {
   "cell_type": "code",
   "execution_count": 10,
   "id": "bd774867",
   "metadata": {},
   "outputs": [
    {
     "data": {
      "text/markdown": [
       "## Conversation Summary\n",
       "The conversation revolves around two individuals, Alex and Ben, discussing the meaning of life. The exchange begins with Alex's inquiry about the meaning of life, to which Ben responds with the enigmatic answer, \"42.\" \n",
       "\n",
       "### The Conversation\n",
       "* Alex initiates the conversation by asking, **\"I've always wondered, what's the meaning of life?\"**\n",
       "* Ben replies with a mysterious answer, **\"You know, I think it's 42.\"** \n",
       "* Alex seeks clarification, finding Ben's answer **\"random,\"** and asks, **\"Why 42?\"**\n",
       "* Ben references Douglas Adams' work, stating, **\"Well, didn't Douglas Adams say that's the answer to the ultimate question of life, the universe, and everything?\"**\n",
       "* Alex recalls reading \"The Hitchhiker's Guide to the Galaxy\" but hadn't given it much thought, saying, **\"From 'The Hitchhiker's Guide to the Galaxy'? I read that, but I never thought much of it.\"**\n",
       "* Ben offers a profound interpretation, suggesting, **\"Exactly! It's humorous, but also profound. Maybe the meaning of life is simply to find joy in the journey, not the destination.\"**\n",
       "* Alex contemplates Ben's insight and concludes, **\"Hmm, I think you might be onto something there. So, 42 is like a reminder to enjoy the ride?\"**\n",
       "\n",
       "### Insights\n",
       "The conversation creatively explores the topic of life's meaning, integrating humor and curiosity. It highlights how the answer \"42\" from Douglas Adams' science fiction series can be seen not just as a quirky response but as a metaphor for finding joy and meaning in life's journey rather than its destination."
      ],
      "text/plain": [
       "<IPython.core.display.Markdown object>"
      ]
     },
     "metadata": {},
     "output_type": "display_data"
    }
   ],
   "source": [
    "from IPython.display import display, Markdown\n",
    "display(Markdown(result['summary']))"
   ]
  },
  {
   "cell_type": "code",
   "execution_count": 11,
   "id": "5323883d",
   "metadata": {},
   "outputs": [
    {
     "data": {
      "image/png": "[encoded data removed]",
      "text/plain": [
       "<IPython.core.display.Image object>"
      ]
     },
     "metadata": {},
     "output_type": "display_data"
    }
   ],
   "source": [
    "# It's also possible to see the graph visually, this is a neat feature of LangGraph that'll help you to understand the flow of the graph.\n",
    "from IPython.display import display, Image\n",
    "display(Image(graph.get_graph().draw_mermaid_png()))"
   ]
  },
  {
   "cell_type": "markdown",
   "id": "6cae6eda",
   "metadata": {},
   "source": [
    "## An agent with a tool\n",
    "\n",
    "Now that we have played a little with agents, let's create an agent that'll search the web for a specific query, and generate a summary over it.\n",
    "For this we'll utilize the Tavily API, and Groq LLM with Llama."
   ]
  },
  {
   "cell_type": "code",
   "execution_count": 12,
   "id": "1437cd75",
   "metadata": {},
   "outputs": [],
   "source": [
    "# Create the Tavily search tool\n",
    "from langchain_tavily import TavilySearch\n",
    "search = TavilySearch(max_results=5)\n",
    "tools = [search]"
   ]
  },
  {
   "cell_type": "code",
   "execution_count": 13,
   "id": "a80787e1",
   "metadata": {},
   "outputs": [],
   "source": [
    "# Create an agent with the tavily search tool\n",
    "from langgraph.prebuilt import create_react_agent\n",
    "\n",
    "agent_executor = create_react_agent(llm, tools)"
   ]
  },
  {
   "cell_type": "code",
   "execution_count": 14,
   "id": "b671d040",
   "metadata": {},
   "outputs": [
    {
     "data": {
      "text/plain": [
       "<langgraph.graph.state.StateGraph at 0x12716e350>"
      ]
     },
     "execution_count": 14,
     "metadata": {},
     "output_type": "execute_result"
    }
   ],
   "source": [
    "# Now let's create the graph with the default MessagesState State, to search the web for a specific query and summarize the result.\n",
    "# This should be made with 2 nodes, one to search the web, and another to summarize the result.\n",
    "from langgraph.graph import MessagesState\n",
    "from langchain_core.messages import AIMessage\n",
    "\n",
    "graph_builder = StateGraph(MessagesState)\n",
    "\n",
    "def search_node(state: MessagesState):\n",
    "    # Get the user input from the state, this should always be the first messages in the state\n",
    "    user_input = state['messages'][-1].content if state['messages'] else None\n",
    "    if not user_input:\n",
    "        raise ValueError(\"User input is required to search the web.\")\n",
    "    \n",
    "    # Invoke the search tool with the user input\n",
    "    results = search.invoke({'query': user_input})\n",
    "    if not results['results']:\n",
    "        raise ValueError(\"No search results found.\")\n",
    "    # Squash the results into valid ToolMessages\n",
    "    found_results = []\n",
    "    for result in results['results']:\n",
    "        # Create a ToolMessage for each result\n",
    "        search_result = AIMessage(\n",
    "            content=result['content'],\n",
    "            kwargs={\n",
    "                'url': result.get('url', ''),\n",
    "                'title': result.get('title', '')\n",
    "            }\n",
    "        )\n",
    "        # Add the ToolMessage to the state messages\n",
    "        found_results.append(search_result)\n",
    "    # Add the search results to the state\n",
    "    return {'messages': found_results}\n",
    "\n",
    "graph_builder.add_node(\"search\", search_node)"
   ]
  },
  {
   "cell_type": "code",
   "execution_count": 15,
   "id": "48759e3a",
   "metadata": {},
   "outputs": [
    {
     "data": {
      "text/plain": [
       "<langgraph.graph.state.StateGraph at 0x12716e350>"
      ]
     },
     "execution_count": 15,
     "metadata": {},
     "output_type": "execute_result"
    }
   ],
   "source": [
    "# Create the node to summarize the search results\n",
    "def summarize_search_results(state: MessagesState):\n",
    "    # Create the system prompt to summarize the search results\n",
    "    system_prompt = \"\"\"\n",
    "    You are a web researcher tasked with summarizing search results.\n",
    "    In this part of the process, you'll need to summarize the search results found previously.\n",
    "    The output should be a short summary of the search results, that can be used to understand what was found.\n",
    "    Also, make the output as a Markdown text.\n",
    "    Keep the URL and reference the results in the Markdown text.\n",
    "    \"\"\"\n",
    "    human_prompt = f\"\"\"\n",
    "    Search results to be summarized: {state['messages']}\n",
    "    \"\"\"\n",
    "    prompt = [system_prompt, human_prompt]\n",
    "    \n",
    "    response = llm.invoke(prompt)\n",
    "    \n",
    "    # Add the summary to the state\n",
    "    return {'messages': [response.content]}\n",
    "\n",
    "graph_builder.add_node(\"summarize_search_results\", summarize_search_results)"
   ]
  },
  {
   "cell_type": "code",
   "execution_count": 16,
   "id": "c49458ea",
   "metadata": {},
   "outputs": [
    {
     "data": {
      "image/png": "[encoded data removed]",
      "text/plain": [
       "<IPython.core.display.Image object>"
      ]
     },
     "metadata": {},
     "output_type": "display_data"
    }
   ],
   "source": [
    "# Now create the edges, compile the graph, visualize it and test it\n",
    "graph_builder.add_edge(START, \"search\")\n",
    "graph_builder.add_edge(\"search\", \"summarize_search_results\")\n",
    "graph_builder.add_edge(\"summarize_search_results\", END)\n",
    "# Compile the graph\n",
    "graph = graph_builder.compile()\n",
    "# Visualize the graph\n",
    "display(Image(graph.get_graph().draw_mermaid_png()))"
   ]
  },
  {
   "cell_type": "code",
   "execution_count": 17,
   "id": "c07c4e2e",
   "metadata": {},
   "outputs": [],
   "source": [
    "# Test the graph with a user input\n",
    "test_state = MessagesState(messages=[AIMessage(content=\"Search for the meaning of life?\")])\n",
    "result = graph.invoke(test_state)"
   ]
  },
  {
   "cell_type": "code",
   "execution_count": 18,
   "id": "8befa6fb",
   "metadata": {},
   "outputs": [
    {
     "data": {
      "text/markdown": [
       "### Summary of Search Results\n",
       "\n",
       "The search results explore the concept of the meaning of life from various perspectives, including psychological, philosophical, and literary viewpoints.\n",
       "\n",
       "* **Viktor Frankl's Perspective**: Viktor Frankl, an Austrian psychiatrist and Holocaust survivor, wrote \"Man's Search for Meaning,\" a book that explores his experiences in Nazi concentration camps and his psychotherapeutic method. Frankl proposes that the meaning of life can be found through three ways: completing tasks, caring for others, or finding meaning in suffering with dignity. [1](https://medium.com/@DenisBischof/search-for-meaning-in-life-based-on-viktor-e-frankl-994a72fbd700) [2](https://en.wikipedia.org/wiki/Man%27s_Search_for_Meaning)\n",
       "\n",
       "* **Finding Purpose in Life**: The search results also suggest that finding one's purpose in life involves exploring what gives life meaning and learning to live well with others. [3](https://www.ivpress.com/pages/content/search-for-meaning-finding-purpose-in-life?srsltid=AfmBOopwPMsE1AO964EH-KQe_ibvdYs9JBIk17XNjxbrTING8hNgnAg7)\n",
       "\n",
       "* **Psychological Research**: Researchers define meaning in life as comprising three themes: believing one's life and contributions matter, feeling that life makes sense, and pursuing fulfilling goals. [4](https://greatergood.berkeley.edu/article/item/three_ways_to_see_meaning_in_your_life)\n",
       "\n",
       "* **Spiritual and Mystical Perspectives**: Some sources discuss the mystical meaning of life and the role of science and mysticism in understanding transpersonal experiences. [5](https://www.amazon.com/Search-Meaning-Life-Reflections-Experience/dp/076481107X)\n",
       "\n",
       "Overall, the search results indicate that the meaning of life is a complex and multifaceted concept that can be explored through various lenses, including psychology, philosophy, literature, and spirituality.\n",
       "\n",
       "References:\n",
       "\n",
       "[1] https://medium.com/@DenisBischof/search-for-meaning-in-life-based-on-viktor-e-frankl-994a72fbd700\n",
       "[2] https://en.wikipedia.org/wiki/Man%27s_Search_for_Meaning\n",
       "[3] https://www.ivpress.com/pages/content/search-for-meaning-finding-purpose-in-life?srsltid=AfmBOopwPMsE1AO964EH-KQe_ibvdYs9JBIk17XNjxbrTING8hNgnAg7\n",
       "[4] https://greatergood.berkeley.edu/article/item/three_ways_to_see_meaning_in_your_life\n",
       "[5] https://www.amazon.com/Search-Meaning-Life-Reflections-Experience/dp/076481107X"
      ],
      "text/plain": [
       "<IPython.core.display.Markdown object>"
      ]
     },
     "metadata": {},
     "output_type": "display_data"
    }
   ],
   "source": [
    "display(Markdown(result['messages'][-1].content))"
   ]
  },
  {
   "cell_type": "markdown",
   "id": "e0060adc",
   "metadata": {},
   "source": [
    "## Memory\n",
    "\n",
    "Now let's continue by adding some sort of memory for our agent. For this, let's add a generic chat node as the first node of the agent and, if the user request is to search the web for something, we'll direct it to the search and summarize node, otherwise we'll just chat with the user. There are some ways of making this \"if\" scenarion, we can add a [`coditional_edge`](https://langchain-ai.github.io/langgraph/concepts/low_level/?h=command#conditional-edges), or utilize the [`Command`](https://langchain-ai.github.io/langgraph/concepts/low_level/?h=command#command) structure. The main difference is that the `Command` can update the state as well as route the information, while the `conditional_edge` can only route the information. Since the `search_node` is expecting the first message to be the search message, we'll add a `conditional_edge` at the beginning of the graph, if the user requested a search, we'll send it to the `search_node`, otherwise we send it to the new `chat_node`."
   ]
  },
  {
   "cell_type": "code",
   "execution_count": 19,
   "id": "36a3a75a",
   "metadata": {},
   "outputs": [
    {
     "data": {
      "text/plain": [
       "<langgraph.graph.state.StateGraph at 0x1079d8510>"
      ]
     },
     "execution_count": 19,
     "metadata": {},
     "output_type": "execute_result"
    }
   ],
   "source": [
    "# Restart the graph builder\n",
    "graph_builder = StateGraph(MessagesState)\n",
    "\n",
    "# Add the search node and summarize node to the graph builder\n",
    "graph_builder.add_node(\"search_node\", search_node)\n",
    "graph_builder.add_node(\"summarize_search_results\", summarize_search_results)\n",
    "\n",
    "# Create the method to detect if the user wants to search the web or not. We'll utilize a slightly more complex way of detecting this\n",
    "# by letting the LLM decide what the message is requesting (a search or a chat).\n",
    "def route(state: MessagesState):\n",
    "    # Get the last message from the state\n",
    "    user_message = state['messages'][-1].content if state['messages'] else None\n",
    "    if not user_message:\n",
    "        raise ValueError(\"User message is required to actually do something.\")\n",
    "    \n",
    "    # Create a custom structured output to handle the decision\n",
    "    class DecisionOutput(TypedDict):\n",
    "        search: str\n",
    "\n",
    "    # Create a system prompt to decide if the user wants to search the web or not\n",
    "    system_prompt = \"\"\"\n",
    "    You are an analyst tasked with deciding if the user wants to search the web or not.\n",
    "    In this part of the process, you'll need to analyze the user message and decide if it is a search request or not.\n",
    "    The output should be only a JSON with the following keys:\n",
    "     - search: boolean value, where True means that the user wants to search the web, and False means that the user wants to chat.\n",
    "    \"\"\"\n",
    "    human_prompt = f\"\"\"\n",
    "    User message to be analyzed: {user_message}\n",
    "    \"\"\"\n",
    "    prompt = [system_prompt, human_prompt]\n",
    "    response = llm.with_structured_output(DecisionOutput).invoke(prompt)\n",
    "    # Return the decision based on the response\n",
    "    if response['search'].lower() == 'true':\n",
    "        return \"search_node\"\n",
    "    \n",
    "    return \"chat_node\"\n",
    "    \n",
    "# Create a chat node that can talk, and direct for the next node based on the user input\n",
    "def chat_node(state: MessagesState):\n",
    "    # Get the last message from the state\n",
    "    user_message = state['messages'][-1].content if state['messages'] else None\n",
    "    if not user_message:\n",
    "        raise ValueError(\"User message is required to actually do something.\")\n",
    "\n",
    "    # Create a system prompt for the chat node\n",
    "    system_prompt = \"\"\"\n",
    "    You are a chat assistant. Your job is to respond to user messages in a helpful and informative way.\n",
    "    \"\"\"\n",
    "    human_prompt = f\"\"\"\n",
    "    User message: {user_message}\n",
    "    \"\"\"\n",
    "    prompt = [system_prompt, human_prompt] + state['messages'] # Since we are working in a chat node, let's send everything we have in the state messages to the LLM.\n",
    "    response = llm.invoke(prompt)\n",
    "    # Process the response and continue the conversation\n",
    "    return {'messages': [AIMessage(content=response.content)]}\n",
    "\n",
    "# Add the nodes to the graph builder\n",
    "graph_builder.add_node('chat_node', chat_node)\n",
    "\n",
    "# Add the edges\n",
    "graph_builder.add_conditional_edges(START, route, ['chat_node', 'search_node']) # We start with the routing edge\n",
    "graph_builder.add_edge(\"chat_node\", END) # From the chat wen can only go to the end\n",
    "graph_builder.add_edge(\"search_node\", \"summarize_search_results\") # From the search, we go to the summarize node\n",
    "graph_builder.add_edge(\"summarize_search_results\", END)"
   ]
  },
  {
   "cell_type": "code",
   "execution_count": 20,
   "id": "18b2a512",
   "metadata": {},
   "outputs": [
    {
     "data": {
      "image/png": "[encoded data removed]",
      "text/plain": [
       "<IPython.core.display.Image object>"
      ]
     },
     "metadata": {},
     "output_type": "display_data"
    }
   ],
   "source": [
    "# Now let's compile the graph and visualize it\n",
    "graph = graph_builder.compile()\n",
    "display(Image(graph.get_graph().draw_mermaid_png()))"
   ]
  },
  {
   "cell_type": "code",
   "execution_count": 21,
   "id": "91b9cb9b",
   "metadata": {},
   "outputs": [
    {
     "name": "stdout",
     "output_type": "stream",
     "text": [
      "==================================\u001b[1m Ai Message \u001b[0m==================================\n",
      "\n",
      " Nice to meet you! How can I assist you today? Do you have any questions, need help with something, or just want to chat? I'm here to help!\n"
     ]
    }
   ],
   "source": [
    "# Now let's test the graph with a user input\n",
    "# First a little chat\n",
    "test_state = MessagesState(messages=[AIMessage(content=\"Hello, my name is Mateus.\")])\n",
    "result = graph.invoke(test_state)\n",
    "result['messages'][-1].pretty_print()"
   ]
  },
  {
   "cell_type": "code",
   "execution_count": 22,
   "id": "8d6abc36",
   "metadata": {},
   "outputs": [
    {
     "data": {
      "text/markdown": [
       "### Summary of Search Results\n",
       "\n",
       "The search results explore the concept of the meaning of life from various perspectives, including psychological, philosophical, and spiritual viewpoints. Here's a brief overview of the findings:\n",
       "\n",
       "* **Viktor Frankl's Perspective**: Viktor Frankl, an Austrian psychiatrist and Holocaust survivor, wrote extensively on the topic in his book \"Man's Search for Meaning\" [1]. Frankl proposes that finding meaning in life is crucial, especially in the face of suffering. He suggests that individuals can find meaning through:\n",
       "\t+ Completing tasks\n",
       "\t+ Caring for others\n",
       "\t+ Finding dignity in suffering\n",
       "* **Psychological Research**: Studies suggest that the experience of meaning in life can be broken down into three interrelated facets [2]:\n",
       "\t+ Significance (mattering to others and oneself)\n",
       "\t+ Coherence (making sense of life)\n",
       "\t+ Purpose (orienting toward goals)\n",
       "* **Spiritual and Philosophical Views**: The search for meaning is also explored in spiritual and philosophical contexts, including [3][4]:\n",
       "\t+ The importance of living well with others\n",
       "\t+ The role of science and mysticism in understanding the mystical meaning of life\n",
       "\n",
       "These perspectives collectively highlight the complexity and multifaceted nature of the search for meaning in life.\n",
       "\n",
       "### References\n",
       "\n",
       "* [1] [Man's Search for Meaning - Wikipedia](https://en.wikipedia.org/wiki/Man%27s_Search_for_Meaning)\n",
       "* [2] [Three Ways to See Meaning in Your Life](https://greatergood.berkeley.edu/article/item/three_ways_to_see_meaning_in_your_life)\n",
       "* [3] [Search for Meaning in Life | Viktor E. Frankl - Medium](https://medium.com/@DenisBischof/search-for-meaning-in-life-based-on-viktor-e-frankl-994a72fbd700)\n",
       "* [4] [The Search for Meaning: Finding Your Purpose in Life](https://www.ivpress.com/pages/content/search-for-meaning-finding-purpose-in-life?srsltid=AfmBOopwPMsE1AO964EH-KQe_ibvdYs9JBIk17XNjxbrTING8hNgnAg7)"
      ],
      "text/plain": [
       "<IPython.core.display.Markdown object>"
      ]
     },
     "metadata": {},
     "output_type": "display_data"
    }
   ],
   "source": [
    "# Let's try a simple search\n",
    "test_state = MessagesState(messages=[AIMessage(content=\"Search for the meaning of life?\")])\n",
    "result = graph.invoke(test_state)\n",
    "display(Markdown(result['messages'][-1].content))"
   ]
  },
  {
   "cell_type": "code",
   "execution_count": 23,
   "id": "24eb3faf",
   "metadata": {},
   "outputs": [
    {
     "name": "stdout",
     "output_type": "stream",
     "text": [
      "==================================\u001b[1m Ai Message \u001b[0m==================================\n",
      "\n",
      " I'm sorry, but I don't have access to personal information about you, including your name. I'm here to provide general information and answer questions, but I don't have the ability to retain or access personal data. If you'd like to share your name with me, I'd be happy to chat with you!\n"
     ]
    }
   ],
   "source": [
    "# Let's check if it knows the name\n",
    "test_state = MessagesState(messages=[AIMessage(content=\"What is my name?\")])\n",
    "result = graph.invoke(test_state)\n",
    "result['messages'][-1].pretty_print()"
   ]
  },
  {
   "cell_type": "code",
   "execution_count": 24,
   "id": "d7560750",
   "metadata": {},
   "outputs": [],
   "source": [
    "# As expected, it has no idea of what was previously talked, let's add a checkpointer to fix this.\n",
    "from langgraph.checkpoint.memory import InMemorySaver\n",
    "\n",
    "checkpointer = InMemorySaver()\n",
    "# We need to rebuild the graph to add the checkpointer\n",
    "graph_builder = StateGraph(MessagesState)\n",
    "graph_builder.add_node('chat_node', chat_node)\n",
    "graph_builder.add_node('search_node', search_node)\n",
    "graph_builder.add_node('summarize_search_results', summarize_search_results)\n",
    "graph_builder.add_conditional_edges(START, route, ['chat_node', 'search_node']) # We start with the routing edge\n",
    "graph_builder.add_edge(\"chat_node\", END) # From the chat wen can only go to the end\n",
    "graph_builder.add_edge(\"search_node\", \"summarize_search_results\") # From the search, we go to the summarize node\n",
    "graph_builder.add_edge(\"summarize_search_results\", END)\n",
    "# Now compile the graph with the checkpointer\n",
    "graph = graph_builder.compile(checkpointer=checkpointer)"
   ]
  },
  {
   "cell_type": "code",
   "execution_count": 25,
   "id": "1226fb4b",
   "metadata": {},
   "outputs": [
    {
     "name": "stdout",
     "output_type": "stream",
     "text": [
      "==================================\u001b[1m Ai Message \u001b[0m==================================\n",
      "\n",
      "Hello Mateus! It's nice to meet you. Is there something I can help you with or would you like to chat?\n"
     ]
    }
   ],
   "source": [
    "# Let's test the graph with the same 3 messages we created, for this we need to add a thread id so it can search, let's create a random\n",
    "# thread id now\n",
    "from uuid import uuid4\n",
    "thread_id = f'memoryTest_{uuid4()}'\n",
    "config = {'configurable': {'thread_id': thread_id}}\n",
    "\n",
    "# And let's invoke the graph with the thread it\n",
    "input = 'Hello, my name is Mateus.'\n",
    "result = graph.invoke({'messages': [{'role': 'user', 'content': input}]}, config)\n",
    "result['messages'][-1].pretty_print()"
   ]
  },
  {
   "cell_type": "code",
   "execution_count": 26,
   "id": "94284e0d",
   "metadata": {},
   "outputs": [
    {
     "name": "stdout",
     "output_type": "stream",
     "text": [
      "================================\u001b[1m Human Message \u001b[0m=================================\n",
      "\n",
      "### Summary of Search Results \n",
      "\n",
      "The search results provide various perspectives on the meaning of life, drawing from psychology, philosophy, and spirituality. \n",
      "\n",
      "* **Psychological Perspectives**: \n",
      "  - Psychologists define meaning in life through three main themes: \n",
      "    1. Believing one's life and contributions matter to others and oneself.\n",
      "    2. Feeling that life makes sense.\n",
      "    3. Actively pursuing fulfilling goals. \n",
      "  - Strategies like logotherapy, meaning therapy, and existential therapy are used to help individuals find meaning.\n",
      "\n",
      "* **Philosophical Views**: \n",
      "  - The concept of the meaning of life is explored through various philosophical ideas and abstract objects.\n",
      "  - The discussion includes topics like causality, consciousness, and the nature of reality.\n",
      "\n",
      "* **Resources for Further Exploration**:\n",
      "  - **Book**: \"Search for the Meaning of Life: Essays and Reflections on the Mystical Experience\" on [Amazon](https://www.amazon.com/Search-Meaning-Life-Reflections-Experience/dp/076481107X).\n",
      "  - **Article**: \"The Meaning of Life Is Surprisingly Simple\" on [The Atlantic](https://www.theatlantic.com/family/archive/2021/10/meaning-life-macronutrients-purpose-search/620440/).\n",
      "  - **Academic Resource**: \"Three Ways to See Meaning in Your Life\" on [Greater Good Science Center](https://greatergood.berkeley.edu/article/item/three_ways_to_see_meaning_in_your_life).\n",
      "  - **Wikipedia**: A comprehensive overview of the [Meaning of life](https://en.wikipedia.org/wiki/Meaning_of_life).\n",
      "  - **Professional Insights**: \"In search of meaning\" by the [American Psychological Association](https://www.apa.org/monitor/2018/10/cover-search-meaning).\n",
      "\n",
      "These resources collectively offer a multidisciplinary approach to understanding the complex and deeply personal question of life's meaning.\n"
     ]
    }
   ],
   "source": [
    "# And let's invoke the graph with the thread it\n",
    "input = 'Search the meaning of life?'\n",
    "result = graph.invoke({'messages': [{'role': 'user', 'content': input}]}, config)\n",
    "result['messages'][-1].pretty_print()"
   ]
  },
  {
   "cell_type": "code",
   "execution_count": 27,
   "id": "5f8aa937",
   "metadata": {},
   "outputs": [
    {
     "name": "stdout",
     "output_type": "stream",
     "text": [
      "==================================\u001b[1m Ai Message \u001b[0m==================================\n",
      "\n",
      "Your name is Mateus. We started our conversation with you introducing yourself as Mateus. How can I assist you further today?\n"
     ]
    }
   ],
   "source": [
    "# Now, let's ask for the name again, it should be able to remember it\n",
    "input = 'What is my name?'\n",
    "result = graph.invoke({'messages': [{'role': 'user', 'content': input}]}, config)\n",
    "result['messages'][-1].pretty_print()"
   ]
  },
  {
   "cell_type": "code",
   "execution_count": 28,
   "id": "6a081448",
   "metadata": {},
   "outputs": [
    {
     "name": "stdout",
     "output_type": "stream",
     "text": [
      "==================================\u001b[1m Ai Message \u001b[0m==================================\n",
      "\n",
      "We've had a conversation about the meaning of life! You initially asked me to search for the meaning of life, and I provided some insights from psychology and philosophy. I also summarized our conversation and provided some resources for further exploration. Additionally, we exchanged greetings and you told me your name is Mateus. That's a quick recap!\n"
     ]
    }
   ],
   "source": [
    "input = 'What have we talked about?'\n",
    "result = graph.invoke({'messages': [{'role': 'user', 'content': input}]}, config)\n",
    "result['messages'][-1].pretty_print()"
   ]
  }
 ],
 "metadata": {
  "language_info": {
   "name": "python"
  }
 },
 "nbformat": 4,
 "nbformat_minor": 5
}
