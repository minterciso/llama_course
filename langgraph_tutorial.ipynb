{
 "cells": [
  {
   "cell_type": "markdown",
   "id": "e5cace7b",
   "metadata": {},
   "source": [
    "## State\n",
    "\n",
    "Langgraph utilizes states as the way to pass message between nodes. There's also a handy message state called `MessagesState`, that is basically a `TypedDict` with a reducer function responsible for keep adding messages in the `message` field. Let's create a similar state, but we'll add a `user_input` field, as well as a `summary` field. The main idea here (and this is totally random) is that we'll store the user query in the `user_input` field, we'll add the messages between the nodes in the `messages` list, and we'll output on the last node a summary of everything that the graph worked, on the the `summary` field."
   ]
  },
  {
   "cell_type": "code",
   "execution_count": 1,
   "id": "1c1cc64f",
   "metadata": {},
   "outputs": [],
   "source": [
    "from langchain_core.messages import AnyMessage\n",
    "from langgraph.graph.message import add_messages\n",
    "from typing import Annotated\n",
    "from typing_extensions import TypedDict\n",
    "\n",
    "class GraphState(TypedDict):\n",
    "    messages: Annotated[list[AnyMessage], add_messages]\n",
    "    user_input: str\n",
    "    summary: str"
   ]
  },
  {
   "cell_type": "markdown",
   "id": "a520f942",
   "metadata": {},
   "source": [
    "## Nodes\n",
    "\n",
    "Each node is responsible for one specific action in a LangGraph graph. So we'll create some nodes to exemplify this:\n",
    "\n",
    "1. Decide the amount of messages the `user_input` can have to tell a story about two people talking about the `user_input` query.\n",
    "2. Create the talks between the two people, and add it in the `messages` field.\n",
    "3. Summarize the conversation found in the `messages` field.\n",
    "\n",
    "Of course this is only for showing how one can utilize the nodes to create a simple graph. Lather on we'll create a more usefull agent."
   ]
  },
  {
   "cell_type": "code",
   "execution_count": 2,
   "id": "67038ef8",
   "metadata": {},
   "outputs": [
    {
     "data": {
      "text/plain": [
       "True"
      ]
     },
     "execution_count": 2,
     "metadata": {},
     "output_type": "execute_result"
    }
   ],
   "source": [
    "# Let's load the environment variables\n",
    "from dotenv import load_dotenv\n",
    "\n",
    "load_dotenv()"
   ]
  },
  {
   "cell_type": "code",
   "execution_count": 3,
   "id": "e57b8387",
   "metadata": {},
   "outputs": [],
   "source": [
    "# Let's start with the LLM and the Langgraph builder, StateGraph\n",
    "from langchain_groq import ChatGroq\n",
    "from langgraph.graph import StateGraph\n",
    "\n",
    "# Instantiate the LLM\n",
    "llm = ChatGroq(model=\"meta-llama/llama-4-scout-17b-16e-instruct\")\n",
    "\n",
    "# Create the graph builder\n",
    "graph_builder = StateGraph(GraphState)"
   ]
  },
  {
   "cell_type": "code",
   "execution_count": 4,
   "id": "be7d9a11",
   "metadata": {},
   "outputs": [
    {
     "data": {
      "text/plain": [
       "<langgraph.graph.state.StateGraph at 0x10d480980>"
      ]
     },
     "execution_count": 4,
     "metadata": {},
     "output_type": "execute_result"
    }
   ],
   "source": [
    "# Create the first node to decide the amount of messages\n",
    "def decide_amount_of_messages(state: GraphState):\n",
    "    # Clean the state variables that we'll need to use, so that we always start with a clean slate\n",
    "    state['messages'] = []\n",
    "    state['summary'] = \"\"\n",
    "\n",
    "    # Get the user input\n",
    "    user_input = state.get('user_input', '')\n",
    "    if not user_input:\n",
    "        raise ValueError(\"User input is required to decide the amount of messages.\")\n",
    "\n",
    "    # Create a system prompt to decide the amount of messages\n",
    "    system_prompt = \"\"\"\n",
    "    You are a novel writer tasked with creating a very short store about two people talking about a given topic.\n",
    "    In this part of the process, you'll need to decide how many messages the conversation will have, and only this.\n",
    "    The amount of messages should be between 2 and 50, the messages should be short and capable ot telling a story about the two people talking about the given topic.\n",
    "    Do not write the messages, just return the amount of messages that the conversation will have and instructions to the next node to create the messages.\n",
    "    \"\"\"\n",
    "    human_prompt = f\"\"\"\n",
    "    User input to be handled as a topic: {user_input}\n",
    "    \"\"\"\n",
    "    prompt = [system_prompt, human_prompt]\n",
    "    response = llm.invoke(prompt)\n",
    "    \n",
    "    # Returning only the messages, will let the LangGraph to utilize the redurecer on the 'messages' field, and it'll add the message to the state. \n",
    "    # Since this is the first node, this'll be the firt message on the list.\n",
    "    return {'messages': response.content} \n",
    "\n",
    "# Add the node to the graph builder\n",
    "graph_builder.add_node(\"decide_amount_of_messages\", decide_amount_of_messages)"
   ]
  },
  {
   "cell_type": "code",
   "execution_count": 5,
   "id": "69b239e3",
   "metadata": {},
   "outputs": [
    {
     "data": {
      "text/plain": [
       "<langgraph.graph.state.StateGraph at 0x10d480980>"
      ]
     },
     "execution_count": 5,
     "metadata": {},
     "output_type": "execute_result"
    }
   ],
   "source": [
    "# Create the second node, to create the actuall message conversation.\n",
    "from langchain_core.messages import AIMessage\n",
    "def create_messages(state: GraphState):\n",
    "    # Get the instruction from the state. It should be the first message in the list.\n",
    "    instruction_message = state['messages'][0]\n",
    "    user_input = state.get('user_input', '')\n",
    "    if not instruction_message:\n",
    "        raise ValueError(\"No instruction message found in the state.\")\n",
    "    \n",
    "    # Create the system prompt to create the messages\n",
    "    system_prompt = \"\"\"\n",
    "    You are a novel writer tasked with creating a very short store about two people talking about a given topic.\n",
    "    In this part of the process, you'll need to create the messages that will be used in the conversation.\n",
    "    You already have the instructions on how to create the messages, as well as the topic to be used.\n",
    "    The output should be a JSON list of messages, where each message is a dictionary with the following fields:\n",
    "    - talker: The name of the person talking, it can be any name you want, as long as it is consistent throughout the conversation.\n",
    "    - content: The content of the message, it should be short and capable of telling a\n",
    "    \"\"\"\n",
    "    human_prompt = f\"\"\"\n",
    "    User input to be handled as a topic: {user_input}\n",
    "    Instructions to create the messages: {instruction_message}\n",
    "    \"\"\"\n",
    "    prompt = [system_prompt, human_prompt]\n",
    "    # Just for kicks, let's create a dictionary output and parse this into a message list, that'll add on the state\n",
    "    class TalkingMessage(TypedDict):\n",
    "        talker: str\n",
    "        content: str\n",
    "    class Conversation(TypedDict):\n",
    "        messages: list[TalkingMessage]\n",
    "    \n",
    "    talk_messages = []\n",
    "    response = llm.with_structured_output(Conversation).invoke(prompt)\n",
    "\n",
    "    for message in response['messages']:\n",
    "        talk_messages.append(AIMessage(content=message['content'], additional_kwargs={'talker': message['talker']}))\n",
    "\n",
    "    return {'messages': talk_messages}\n",
    "\n",
    "# Add the node to the graph builder\n",
    "graph_builder.add_node(\"create_messages\", create_messages)"
   ]
  },
  {
   "cell_type": "code",
   "execution_count": 6,
   "id": "e00a88bd",
   "metadata": {},
   "outputs": [
    {
     "data": {
      "text/plain": [
       "<langgraph.graph.state.StateGraph at 0x10d480980>"
      ]
     },
     "execution_count": 6,
     "metadata": {},
     "output_type": "execute_result"
    }
   ],
   "source": [
    "# Now let's add the last node, to summarize the conversation\n",
    "def summarize_conversation(state: GraphState):\n",
    "    # Get the messages from the state\n",
    "    messages = state['messages']\n",
    "    if not messages:\n",
    "        raise ValueError(\"No messages found in the state.\")\n",
    "    \n",
    "    # Create the system prompt to summarize the conversation\n",
    "    system_prompt = \"\"\"\n",
    "    You are a novel writer tasked with summarizing a conversation between two people.\n",
    "    In this part of the process, you'll need to summarize the conversation found in the messages.\n",
    "    The output should be a short summary of the conversation, that can be used to understand what was talked about.\n",
    "    Also, make the output as a Markdown text, and include the messages in it.\n",
    "    \"\"\"\n",
    "    human_prompt = f\"\"\"\n",
    "    Messages to be summarized: {messages}\n",
    "    \"\"\"\n",
    "    prompt = [system_prompt, human_prompt]\n",
    "    \n",
    "    response = llm.invoke(prompt)\n",
    "    \n",
    "    # Add the summary to the state\n",
    "    return {'summary': response.content}\n",
    "# Add the node to the graph builder\n",
    "graph_builder.add_node(\"summarize_conversation\", summarize_conversation)"
   ]
  },
  {
   "cell_type": "code",
   "execution_count": 7,
   "id": "7d6a7f88",
   "metadata": {},
   "outputs": [],
   "source": [
    "# Add the edges between the nodes\n",
    "from langgraph.graph import START, END\n",
    "\n",
    "graph_builder.add_edge(START, \"decide_amount_of_messages\")\n",
    "graph_builder.add_edge(\"decide_amount_of_messages\", \"create_messages\")\n",
    "graph_builder.add_edge(\"create_messages\", \"summarize_conversation\")\n",
    "graph_builder.add_edge(\"create_messages\", END)\n",
    "\n",
    "# Compile the graph\n",
    "graph = graph_builder.compile()"
   ]
  },
  {
   "cell_type": "code",
   "execution_count": 8,
   "id": "f3d86ac9",
   "metadata": {},
   "outputs": [],
   "source": [
    "# Test user input\n",
    "test_state = GraphState(\n",
    "    user_input=\"What is the meaning of life, and why it's 42?\",\n",
    "    messages=[],\n",
    "    summary=\"\"\n",
    ")\n",
    "# Run the graph with the test state\n",
    "result = graph.invoke(test_state)"
   ]
  },
  {
   "cell_type": "code",
   "execution_count": 9,
   "id": "098de563",
   "metadata": {},
   "outputs": [
    {
     "name": "stdout",
     "output_type": "stream",
     "text": [
      "---\n",
      "Content: A classic topic!\n",
      "\n",
      "I've decided that the conversation will have **5 messages**.\n",
      "\n",
      "Here are the instructions for the next node:\n",
      "\n",
      "1. Create a conversation between two people, Alex and Maya, about the meaning of life and why it's 42.\n",
      "2. Keep each message short, around 1-2 sentences.\n",
      "3. The conversation should start with Alex bringing up the topic and Maya responding with a curious tone.\n",
      "4. The conversation should explore the idea that 42 is the answer to the ultimate question of life, but also poke fun at the mystery surrounding it.\n",
      "5. End the conversation with a thought-provoking or humorous remark.\n",
      "\n",
      "Please proceed with creating the messages!\n",
      "Talker: Unknown\n",
      "---\n",
      "Content: I've always wondered, what's the meaning of life? And I think I found the answer: it's 42!\n",
      "Talker: Alex\n",
      "---\n",
      "Content: Really? 42? That's quite a random number. What's so special about it?\n",
      "Talker: Maya\n",
      "---\n",
      "Content: Well, apparently it's the answer to the ultimate question of life, but nobody knows what the question is. Isn't that just brilliant?\n",
      "Talker: Alex\n",
      "---\n",
      "Content: Ha! That's both fascinating and frustrating. I mean, who comes up with a answer without a question?\n",
      "Talker: Maya\n",
      "---\n",
      "Content: Exactly! It's like the universe's biggest joke. But hey, at least we have 42 to ponder over.\n",
      "Talker: Alex\n"
     ]
    }
   ],
   "source": [
    "for message in result['messages']:\n",
    "    print('---')\n",
    "    print(f'Content: {message.content}')\n",
    "    print(f'Talker: {message.additional_kwargs.get(\"talker\", \"Unknown\")}')"
   ]
  },
  {
   "cell_type": "code",
   "execution_count": 11,
   "id": "bd774867",
   "metadata": {},
   "outputs": [
    {
     "data": {
      "text/markdown": [
       "## Conversation Summary\n",
       "The conversation between Alex and Maya revolves around the meaning of life, specifically the notion that 42 is the answer to the ultimate question of life. The discussion pokes fun at the mystery surrounding 42 and the fact that the question it answers is unknown.\n",
       "\n",
       "## Conversation\n",
       "* **Alex**: I've always wondered, what's the meaning of life? And I think I found the answer: it's 42!\n",
       "* **Maya**: Really? 42? That's quite a random number. What's so special about it?\n",
       "* **Alex**: Well, apparently it's the answer to the ultimate question of life, but nobody knows what the question is. Isn't that just brilliant?\n",
       "* **Maya**: Ha! That's both fascinating and frustrating. I mean, who comes up with a answer without a question?\n",
       "* **Alex**: Exactly! It's like the universe's biggest joke. But hey, at least we have 42 to ponder over."
      ],
      "text/plain": [
       "<IPython.core.display.Markdown object>"
      ]
     },
     "metadata": {},
     "output_type": "display_data"
    }
   ],
   "source": [
    "from IPython.display import display, Markdown\n",
    "display(Markdown(result['summary']))"
   ]
  },
  {
   "cell_type": "code",
   "execution_count": 12,
   "id": "5323883d",
   "metadata": {},
   "outputs": [
    {
     "data": {
      "image/png": "[encoded data removed]",
      "text/plain": [
       "<IPython.core.display.Image object>"
      ]
     },
     "metadata": {},
     "output_type": "display_data"
    }
   ],
   "source": [
    "# It's also possible to see the graph visually, this is a neat feature of LangGraph that'll help you to understand the flow of the graph.\n",
    "from IPython.display import display, Image\n",
    "display(Image(graph.get_graph().draw_mermaid_png()))"
   ]
  },
  {
   "cell_type": "markdown",
   "id": "6cae6eda",
   "metadata": {},
   "source": [
    "## An agent with a tool\n",
    "\n",
    "Now that we have played a little with agents, let's create an agent that'll search the web for a specific query, and generate a summary over it.\n",
    "For this we'll utilize the Tavily API, and Groq LLM with Llama."
   ]
  },
  {
   "cell_type": "code",
   "execution_count": 13,
   "id": "1437cd75",
   "metadata": {},
   "outputs": [],
   "source": [
    "# Create the Tavily search tool\n",
    "from langchain_tavily import TavilySearch\n",
    "search = TavilySearch(max_results=5)\n",
    "tools = [search]"
   ]
  },
  {
   "cell_type": "code",
   "execution_count": 14,
   "id": "a80787e1",
   "metadata": {},
   "outputs": [],
   "source": [
    "# Create an agent with the tavily search tool\n",
    "from langgraph.prebuilt import create_react_agent\n",
    "\n",
    "agent_executor = create_react_agent(llm, tools)"
   ]
  },
  {
   "cell_type": "code",
   "execution_count": 56,
   "id": "b671d040",
   "metadata": {},
   "outputs": [
    {
     "data": {
      "text/plain": [
       "<langgraph.graph.state.StateGraph at 0x12a93ea80>"
      ]
     },
     "execution_count": 56,
     "metadata": {},
     "output_type": "execute_result"
    }
   ],
   "source": [
    "# Now let's create the graph with the default MessagesState State, to search the web for a specific query and summarize the result.\n",
    "# This should be made with 2 nodes, one to search the web, and another to summarize the result.\n",
    "from langgraph.graph import MessagesState\n",
    "from langchain_core.messages import AIMessage\n",
    "\n",
    "graph_builder = StateGraph(MessagesState)\n",
    "\n",
    "def search_node(state: MessagesState):\n",
    "    # Get the user input from the state, this should always be the first messages in the state\n",
    "    user_input = state['messages'][0].content if state['messages'] else None\n",
    "    if not user_input:\n",
    "        raise ValueError(\"User input is required to search the web.\")\n",
    "    \n",
    "    # Invoke the search tool with the user input\n",
    "    results = search.invoke({'query': user_input})\n",
    "    if not results['results']:\n",
    "        raise ValueError(\"No search results found.\")\n",
    "    # Squash the results into valid ToolMessages\n",
    "    found_results = []\n",
    "    for result in results['results']:\n",
    "        # Create a ToolMessage for each result\n",
    "        search_result = AIMessage(\n",
    "            content=result['content'],\n",
    "            kwargs={\n",
    "                'url': result.get('url', ''),\n",
    "                'title': result.get('title', '')\n",
    "            }\n",
    "        )\n",
    "        # Add the ToolMessage to the state messages\n",
    "        found_results.append(search_result)\n",
    "    # Add the search results to the state\n",
    "    return {'messages': found_results}\n",
    "\n",
    "graph_builder.add_node(\"search\", search_node)"
   ]
  },
  {
   "cell_type": "code",
   "execution_count": 57,
   "id": "48759e3a",
   "metadata": {},
   "outputs": [
    {
     "data": {
      "text/plain": [
       "<langgraph.graph.state.StateGraph at 0x12a93ea80>"
      ]
     },
     "execution_count": 57,
     "metadata": {},
     "output_type": "execute_result"
    }
   ],
   "source": [
    "# Create the node to summarize the search results\n",
    "def summarize_search_results(state: MessagesState):\n",
    "    # Create the system prompt to summarize the search results\n",
    "    system_prompt = \"\"\"\n",
    "    You are a web researcher tasked with summarizing search results.\n",
    "    In this part of the process, you'll need to summarize the search results found previously.\n",
    "    The output should be a short summary of the search results, that can be used to understand what was found.\n",
    "    Also, make the output as a Markdown text.\n",
    "    Keep the URL and reference the results in the Markdown text.\n",
    "    \"\"\"\n",
    "    human_prompt = f\"\"\"\n",
    "    Search results to be summarized: {state['messages']}\n",
    "    \"\"\"\n",
    "    prompt = [system_prompt, human_prompt]\n",
    "    \n",
    "    response = llm.invoke(prompt)\n",
    "    \n",
    "    # Add the summary to the state\n",
    "    return {'messages': [response.content]}\n",
    "\n",
    "graph_builder.add_node(\"summarize_search_results\", summarize_search_results)"
   ]
  },
  {
   "cell_type": "code",
   "execution_count": 58,
   "id": "c49458ea",
   "metadata": {},
   "outputs": [
    {
     "data": {
      "image/png": "[encoded data removed]",
      "text/plain": [
       "<IPython.core.display.Image object>"
      ]
     },
     "metadata": {},
     "output_type": "display_data"
    }
   ],
   "source": [
    "# Now create the edges, compile the graph, visualize it and test it\n",
    "graph_builder.add_edge(START, \"search\")\n",
    "graph_builder.add_edge(\"search\", \"summarize_search_results\")\n",
    "graph_builder.add_edge(\"summarize_search_results\", END)\n",
    "# Compile the graph\n",
    "graph = graph_builder.compile()\n",
    "# Visualize the graph\n",
    "display(Image(graph.get_graph().draw_mermaid_png()))"
   ]
  },
  {
   "cell_type": "code",
   "execution_count": 59,
   "id": "c07c4e2e",
   "metadata": {},
   "outputs": [],
   "source": [
    "# Test the graph with a user input\n",
    "test_state = MessagesState(messages=[AIMessage(content=\"Search for the meaning of life?\")])\n",
    "result = graph.invoke(test_state)"
   ]
  },
  {
   "cell_type": "code",
   "execution_count": 60,
   "id": "8befa6fb",
   "metadata": {},
   "outputs": [
    {
     "data": {
      "text/markdown": [
       "**Summary of Search Results**\n",
       "==========================\n",
       "\n",
       "The search results provide various perspectives on the meaning of life, drawing from psychology, philosophy, and personal reflections. Here's a brief overview of the findings:\n",
       "\n",
       "* **Psychological perspectives**: Researchers define meaning in life as comprising three themes: believing one's life and contributions matter, feeling that life makes sense, and actively pursuing fulfilling goals ([Greater Good Science Center](https://greatergood.berkeley.edu/article/item/three_ways_to_see_meaning_in_your_life)).\n",
       "* **Philosophical views**: The meaning of life is considered a quest for significance, rather than pleasure or power ([Viktor E. Frankl, Medium](https://medium.com/@DenisBischof/search-for-meaning-in-life-based-on-viktor-e-frankl-994a72fbd700)).\n",
       "* **Personal reflections**: The search for meaning in life involves exploring mystical and transpersonal experiences, as well as the role of science and mysticism ([Amazon, Search for the Meaning of Life](https://www.amazon.com/Search-Meaning-Life-Reflections-Experience/dp/076481107X)).\n",
       "* **Simplified perspectives**: Some psychologists suggest that knowing one's life's meaning is related to \"presence,\" while the drive to search for it is called \"search\" ([The Atlantic](https://www.theatlantic.com/family/archive/2021/10/meaning-life-macronutrients-purpose-search/620440/)).\n",
       "* **Comprehensive overviews**: The Wikipedia article on the [Meaning of Life](https://en.wikipedia.org/wiki/Meaning_of_life) provides a detailed examination of the concept, including abstract objects, causality, and the nature of existence.\n",
       "\n",
       "These search results offer a range of insights into the complex and multifaceted concept of the meaning of life."
      ],
      "text/plain": [
       "<IPython.core.display.Markdown object>"
      ]
     },
     "metadata": {},
     "output_type": "display_data"
    }
   ],
   "source": [
    "display(Markdown(result['messages'][-1].content))"
   ]
  },
  {
   "cell_type": "code",
   "execution_count": null,
   "id": "e0060adc",
   "metadata": {},
   "outputs": [],
   "source": []
  }
 ],
 "metadata": {
  "language_info": {
   "name": "python"
  }
 },
 "nbformat": 4,
 "nbformat_minor": 5
}
